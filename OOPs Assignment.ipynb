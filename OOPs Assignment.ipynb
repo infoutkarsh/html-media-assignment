{
 "cells": [
  {
   "cell_type": "markdown",
   "id": "80125c5a",
   "metadata": {},
   "source": [
    "Q1. Explain Class and Object with respect to Object-Oriented Programming. Give a suitable example.\n",
    "\n",
    "Q2. Name the four pillars of OOPs.\n",
    "\n",
    "Q3. Explain why the __init__() function is used. Give a suitable example.\n",
    "\n",
    "Q4. Why self is used in OOPs?\n",
    "\n",
    "Q5. What is inheritance? Give an example for each type of inheritance."
   ]
  },
  {
   "cell_type": "markdown",
   "id": "fa09531c",
   "metadata": {},
   "source": [
    "Q1.In object-oriented programming (OOP),\n",
    "\n",
    "A class is a blueprint or template for creating objects. It defines a data structure and behavior that the objects instantiated from the class will have. \n",
    "\n",
    "An object, on the other hand, is an instance of a class. It is a concrete entity created from the class, with its own unique attributes and behaviors."
   ]
  },
  {
   "cell_type": "code",
   "execution_count": 19,
   "id": "8a0bd3fc",
   "metadata": {},
   "outputs": [],
   "source": [
    "class xyx: #CLASS\n",
    "    spec='couple'\n",
    "    def __init__(self,name,age):\n",
    "        #instance variable\n",
    "        self.name=name\n",
    "        self.age=age\n",
    "    \n",
    "    #instance method\n",
    "    def date(self):\n",
    "        return \"romance\""
   ]
  },
  {
   "cell_type": "code",
   "execution_count": 20,
   "id": "9e0cc04a",
   "metadata": {},
   "outputs": [],
   "source": [
    "#object\n",
    "utk=xyx(\"rey\",23)"
   ]
  },
  {
   "cell_type": "code",
   "execution_count": 22,
   "id": "3ef2bc28",
   "metadata": {},
   "outputs": [
    {
     "data": {
      "text/plain": [
       "'rey'"
      ]
     },
     "execution_count": 22,
     "metadata": {},
     "output_type": "execute_result"
    }
   ],
   "source": [
    "utk.name"
   ]
  },
  {
   "cell_type": "code",
   "execution_count": 23,
   "id": "1878b28f",
   "metadata": {},
   "outputs": [
    {
     "data": {
      "text/plain": [
       "23"
      ]
     },
     "execution_count": 23,
     "metadata": {},
     "output_type": "execute_result"
    }
   ],
   "source": [
    "utk.age"
   ]
  },
  {
   "cell_type": "code",
   "execution_count": 24,
   "id": "a0815c56",
   "metadata": {},
   "outputs": [
    {
     "data": {
      "text/plain": [
       "'romance'"
      ]
     },
     "execution_count": 24,
     "metadata": {},
     "output_type": "execute_result"
    }
   ],
   "source": [
    "utk.date()"
   ]
  },
  {
   "cell_type": "markdown",
   "id": "c5bfaecd",
   "metadata": {},
   "source": [
    "Q2. Name the four pillars of OOPs.\n",
    "\n",
    "The four pillars of object-oriented programming (OOP) are:\n",
    "\n",
    "Encapsulation: It is the bundling of data (attributes) and the methods that operate on the data into a single unit, i.e., a class. It helps in hiding the internal details of the class from the outside world.\n",
    "\n",
    "Inheritance: It is a mechanism by which a new class can inherit properties and behaviors from an existing class. It promotes code reusability.\n",
    "\n",
    "Polymorphism: It allows objects of different classes to be treated as objects of a common base class. Polymorphism can be achieved through method overloading and method overriding.\n",
    "\n",
    "Abstraction: It involves simplifying complex systems by modeling classes based on the essential properties and behaviors they possess. It hides the unnecessary details while exposing the necessary features."
   ]
  },
  {
   "cell_type": "markdown",
   "id": "be3efb50",
   "metadata": {},
   "source": [
    "Q3. Explain why the __init__() function is used. Give a suitable example.\n",
    "\n",
    "The __init__() function is a special method in Python classes and is called a constructor. It is used to initialize the attributes of an object when it is created. This method is automatically called when an object is instantiated from a class."
   ]
  },
  {
   "cell_type": "code",
   "execution_count": 41,
   "id": "b022446d",
   "metadata": {},
   "outputs": [],
   "source": [
    "class City:\n",
    "    def __init__(me, name, pincode):\n",
    "        me.name = name\n",
    "        me.pincode = pincode\n",
    "        \n",
    "    def display(self):\n",
    "        print(self.name, self.pincode)\n"
   ]
  },
  {
   "cell_type": "code",
   "execution_count": 42,
   "id": "29bf5fc2",
   "metadata": {},
   "outputs": [],
   "source": [
    "my_city = City(\"Varanasi\", 201007)"
   ]
  },
  {
   "cell_type": "code",
   "execution_count": 43,
   "id": "68f1704c",
   "metadata": {},
   "outputs": [
    {
     "name": "stdout",
     "output_type": "stream",
     "text": [
      "Varanasi 201007\n"
     ]
    }
   ],
   "source": [
    "my_city.display()"
   ]
  },
  {
   "cell_type": "markdown",
   "id": "30810299",
   "metadata": {},
   "source": [
    "Q4. Why self is used in OOPs?\n",
    "\n",
    "In object-oriented programming, self is a convention used to represent the instance of the class. It is the first parameter of instance methods in Python and refers to the instance itself. When calling a method on an object, the instance is automatically passed as the first argument to the method, and it is conventionally named self."
   ]
  },
  {
   "cell_type": "code",
   "execution_count": 44,
   "id": "c5a79974",
   "metadata": {},
   "outputs": [
    {
     "name": "stdout",
     "output_type": "stream",
     "text": [
      "The value is: 42\n"
     ]
    }
   ],
   "source": [
    "class Example:\n",
    "    def __init__(self, value):\n",
    "        self.value = value\n",
    "\n",
    "    def display_value(self):\n",
    "        print(f\"The value is: {self.value}\")\n",
    "\n",
    "# Creating an object of the Example class\n",
    "obj = Example(42)\n",
    "\n",
    "# Calling the display_value method\n",
    "obj.display_value()"
   ]
  },
  {
   "cell_type": "markdown",
   "id": "e8006d52",
   "metadata": {},
   "source": [
    "Q5. What is inheritance? Give an example for each type of inheritance.\n",
    "\n",
    "Inheritance is a mechanism in object-oriented programming that allows a new class (subclass or derived class) to inherit properties and behaviors from an existing class (base class or superclass). This promotes code reuse and establishes a relationship between the classes."
   ]
  },
  {
   "cell_type": "code",
   "execution_count": 1,
   "id": "1f5fde0a",
   "metadata": {},
   "outputs": [],
   "source": [
    "#Single Inheritance\n",
    "class number:\n",
    "    def whole(self):\n",
    "        pass\n",
    "    \n",
    "class digit(number):\n",
    "    def natural(self):\n",
    "        print(\"right\")\n"
   ]
  },
  {
   "cell_type": "code",
   "execution_count": 9,
   "id": "0cab14ac",
   "metadata": {},
   "outputs": [
    {
     "name": "stdout",
     "output_type": "stream",
     "text": [
      "right\n"
     ]
    }
   ],
   "source": [
    "ten=digit()\n",
    "ten.natural()"
   ]
  },
  {
   "cell_type": "code",
   "execution_count": 11,
   "id": "3196b89a",
   "metadata": {},
   "outputs": [
    {
     "ename": "AttributeError",
     "evalue": "'number' object has no attribute 'natural'",
     "output_type": "error",
     "traceback": [
      "\u001b[1;31m---------------------------------------------------------------------------\u001b[0m",
      "\u001b[1;31mAttributeError\u001b[0m                            Traceback (most recent call last)",
      "Cell \u001b[1;32mIn[11], line 2\u001b[0m\n\u001b[0;32m      1\u001b[0m ten\u001b[38;5;241m=\u001b[39mnumber()\n\u001b[1;32m----> 2\u001b[0m ten\u001b[38;5;241m.\u001b[39mnatural\n",
      "\u001b[1;31mAttributeError\u001b[0m: 'number' object has no attribute 'natural'"
     ]
    }
   ],
   "source": [
    "ten=number()\n",
    "ten.natural"
   ]
  },
  {
   "cell_type": "code",
   "execution_count": 21,
   "id": "e02fdb04",
   "metadata": {},
   "outputs": [],
   "source": [
    "#Multiple Inheritance\n",
    "class actor:\n",
    "    def srk(self):\n",
    "        print(\"dunki\")\n",
    "    \n",
    "class actress:\n",
    "    def deepika(sel):\n",
    "        print(\"fighter\")\n",
    "        \n",
    "class bollywood(actor,actress):\n",
    "    def director(self):\n",
    "        print(\"action\")\n",
    "    \n"
   ]
  },
  {
   "cell_type": "code",
   "execution_count": 23,
   "id": "0b37b6db",
   "metadata": {},
   "outputs": [
    {
     "name": "stdout",
     "output_type": "stream",
     "text": [
      "fighter\n"
     ]
    }
   ],
   "source": [
    "film=bollywood()\n",
    "film.deepika()"
   ]
  },
  {
   "cell_type": "code",
   "execution_count": 24,
   "id": "15dd2a96",
   "metadata": {},
   "outputs": [
    {
     "name": "stdout",
     "output_type": "stream",
     "text": [
      "action\n"
     ]
    }
   ],
   "source": [
    "film.director()"
   ]
  },
  {
   "cell_type": "code",
   "execution_count": null,
   "id": "44a5c613",
   "metadata": {},
   "outputs": [],
   "source": []
  }
 ],
 "metadata": {
  "kernelspec": {
   "display_name": "Python 3 (ipykernel)",
   "language": "python",
   "name": "python3"
  },
  "language_info": {
   "codemirror_mode": {
    "name": "ipython",
    "version": 3
   },
   "file_extension": ".py",
   "mimetype": "text/x-python",
   "name": "python",
   "nbconvert_exporter": "python",
   "pygments_lexer": "ipython3",
   "version": "3.11.5"
  }
 },
 "nbformat": 4,
 "nbformat_minor": 5
}
