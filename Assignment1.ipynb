{
 "cells": [
  {
   "cell_type": "markdown",
   "id": "fc2b725a-c1e4-4416-b879-14662bf2baf2",
   "metadata": {},
   "source": [
    "Q1. Create one variable containing following type of data:"
   ]
  },
  {
   "cell_type": "code",
   "execution_count": 3,
   "id": "4da3fbff-6c5a-4f22-b8d2-09a7ae6e41c4",
   "metadata": {},
   "outputs": [],
   "source": [
    "# (i) String\n",
    "my_string = \"Hello, World!\"\n",
    "\n",
    "# (ii) List\n",
    "my_list = [1, 2, 3, 4, 5]\n",
    "\n",
    "# (iii) Float\n",
    "my_float = 3.14\n",
    "\n",
    "# (iv) Tuple\n",
    "my_tuple = (10, 20, 30)"
   ]
  },
  {
   "cell_type": "markdown",
   "id": "ee44c9aa-2f6a-4356-be5a-914a0b1466f4",
   "metadata": {},
   "source": [
    "Q2. Given are some following variables containing data:\n",
    "(i) var1 = ‘ ‘\n",
    "(ii) var2 = ‘[ DS , ML , Python]’\n",
    "(iii) var3 = [ ‘DS’ , ’ML’ , ‘Python’ ]\n",
    "(iv) var4 = 1.\n",
    "What will be the data type of the above given variable.\n"
   ]
  },
  {
   "cell_type": "markdown",
   "id": "bdf92e89-94c0-47c5-baa2-76e9e0df594d",
   "metadata": {},
   "source": [
    "(i) var1 = ' ' - The data type of var1 is a string because it contains a single space enclosed in single quotes.\n",
    "\n",
    "(ii) var2 = '[ DS , ML , Python]' - The data type of var2 is also a string. It contains a sequence of characters enclosed in single quotes.\n",
    "\n",
    "(iii) var3 = ['DS', 'ML', 'Python'] - The data type of var3 is a list because it contains a sequence of elements enclosed in square brackets.\n",
    "\n",
    "(iv) var4 = 1.0 - The data type of var4 is a float because it contains a decimal number."
   ]
  },
  {
   "cell_type": "markdown",
   "id": "ab594c6d-588f-4633-adee-a965d2660b07",
   "metadata": {},
   "source": [
    "Q3. Explain the use of the following operators using an example:\n",
    "(i) /\n",
    "(ii) %\n",
    "(iii) //\n",
    "(iv) **"
   ]
  },
  {
   "cell_type": "markdown",
   "id": "4f8bcf09-ffad-47a5-ba20-015eb0e59286",
   "metadata": {},
   "source": [
    "(i) / (Division Operator):\n",
    "\n",
    "The / operator is used for division, and it returns the quotient of dividing two numbers."
   ]
  },
  {
   "cell_type": "code",
   "execution_count": 4,
   "id": "511f9d31-3289-4ea3-ac58-f39cf9ed7bbd",
   "metadata": {},
   "outputs": [
    {
     "name": "stdout",
     "output_type": "stream",
     "text": [
      "3.3333333333333335\n"
     ]
    }
   ],
   "source": [
    "result = 10 / 3\n",
    "print(result)"
   ]
  },
  {
   "cell_type": "markdown",
   "id": "e03f52cc-376a-4fe7-b7f7-57030e61ee12",
   "metadata": {},
   "source": [
    "(ii) % (Modulus Operator):\n",
    "\n",
    "The % operator is used for modulus division, and it returns the remainder of dividing two numbers."
   ]
  },
  {
   "cell_type": "code",
   "execution_count": 5,
   "id": "f47fc16d-7d16-4d47-a216-47af9a7fae67",
   "metadata": {},
   "outputs": [
    {
     "name": "stdout",
     "output_type": "stream",
     "text": [
      "1\n"
     ]
    }
   ],
   "source": [
    "remainder = 10 % 3\n",
    "print(remainder) "
   ]
  },
  {
   "cell_type": "markdown",
   "id": "49d398e9-8c8e-49bc-a6a6-90ac9fe68efb",
   "metadata": {},
   "source": [
    "(iii) // (Floor Division Operator):\n",
    "\n",
    "The // operator is used for floor division, and it returns the integer part of the quotient of dividing two numbers, discarding any remainder."
   ]
  },
  {
   "cell_type": "code",
   "execution_count": 6,
   "id": "44626650-61c6-40a4-ad33-bb345d10cbe5",
   "metadata": {},
   "outputs": [
    {
     "name": "stdout",
     "output_type": "stream",
     "text": [
      "3\n"
     ]
    }
   ],
   "source": [
    "result = 10 // 3\n",
    "print(result) "
   ]
  },
  {
   "cell_type": "markdown",
   "id": "838c5790-836b-4b1d-a753-964e36cfb759",
   "metadata": {},
   "source": [
    "(iv) ** (Exponentiation Operator):\n",
    "\n",
    "The ** operator is used for exponentiation, and it raises a number to a specified power."
   ]
  },
  {
   "cell_type": "code",
   "execution_count": 7,
   "id": "165cf67b-a7c3-476f-8b15-150188d96664",
   "metadata": {},
   "outputs": [
    {
     "name": "stdout",
     "output_type": "stream",
     "text": [
      "8\n"
     ]
    }
   ],
   "source": [
    "result = 2 ** 3\n",
    "print(result) "
   ]
  },
  {
   "cell_type": "markdown",
   "id": "af257a50-6b53-4dcc-b568-f6987688aebc",
   "metadata": {},
   "source": [
    "Q4. Create a list of length 10 of your choice containing multiple types of data. Using for loop print the\n",
    "element and its data type."
   ]
  },
  {
   "cell_type": "code",
   "execution_count": 8,
   "id": "62e51295-199e-4771-8fa9-4702282e8ba7",
   "metadata": {},
   "outputs": [
    {
     "name": "stdout",
     "output_type": "stream",
     "text": [
      "Element: 1, Data Type: <class 'int'>\n",
      "Element: Hello, Data Type: <class 'str'>\n",
      "Element: 3.14, Data Type: <class 'float'>\n",
      "Element: True, Data Type: <class 'bool'>\n",
      "Element: [1, 2, 3], Data Type: <class 'list'>\n",
      "Element: {'name': 'John', 'age': 30}, Data Type: <class 'dict'>\n",
      "Element: None, Data Type: <class 'NoneType'>\n",
      "Element: (4, 5), Data Type: <class 'tuple'>\n",
      "Element: False, Data Type: <class 'bool'>\n",
      "Element: World, Data Type: <class 'str'>\n"
     ]
    }
   ],
   "source": [
    "my_list = [1, 'Hello', 3.14, True, [1, 2, 3], {'name': 'John', 'age': 30}, None, (4, 5), False, 'World']\n",
    "\n",
    "for i in my_list:\n",
    "    print(f\"Element: {i}, Data Type: {type(i)}\")"
   ]
  },
  {
   "cell_type": "markdown",
   "id": "846d10ed-c941-4c2c-8300-c4c5b8373863",
   "metadata": {},
   "source": [
    "Q5.Using a while loop, verify if the number A is purely divisible by number B and if so then how many\n",
    "times it can be divisible."
   ]
  },
  {
   "cell_type": "code",
   "execution_count": null,
   "id": "dd77811b-72f5-4c1d-aeb9-879b6b2e9537",
   "metadata": {},
   "outputs": [
    {
     "name": "stdin",
     "output_type": "stream",
     "text": [
      "Enter the value of A:  10\n",
      "Enter the value of B:  2\n"
     ]
    },
    {
     "name": "stdout",
     "output_type": "stream",
     "text": [
      "5 is not completely divisible by 2. The largest quotient is 1 times, and the remainder is 5.\n"
     ]
    }
   ],
   "source": [
    "A = int(input(\"Enter the value of A: \"))\n",
    "B = int(input(\"Enter the value of B: \"))\n",
    "\n",
    "count = 0\n",
    "\n",
    "while A % B == 0:\n",
    "    A = A // B  \n",
    "    count += 1 \n",
    "if A == 0:\n",
    "    print(f\"{A} is completely divisible by {B}, and it can be divided {count} times.\")\n",
    "else:\n",
    "    print(f\"{A} is not completely divisible by {B}. The largest quotient is {count} times, and the remainder is {A}.\")"
   ]
  },
  {
   "cell_type": "markdown",
   "id": "1ff433c0-1e5d-481b-bea2-d3a60fbbd705",
   "metadata": {},
   "source": [
    "Q6. Create a list containing 25 int type data. Using for loop and if-else condition print if the element is\n",
    "divisible by 3 or not."
   ]
  },
  {
   "cell_type": "code",
   "execution_count": 17,
   "id": "cd7e5fe2-825e-407d-ba8c-be86be6da4b3",
   "metadata": {},
   "outputs": [
    {
     "name": "stdout",
     "output_type": "stream",
     "text": [
      "5 is not divisible by 3.\n",
      "9 is divisible by 3.\n",
      "12 is divisible by 3.\n",
      "18 is divisible by 3.\n",
      "22 is not divisible by 3.\n",
      "36 is divisible by 3.\n",
      "42 is divisible by 3.\n",
      "15 is divisible by 3.\n",
      "8 is not divisible by 3.\n",
      "27 is divisible by 3.\n",
      "30 is divisible by 3.\n",
      "7 is not divisible by 3.\n",
      "10 is not divisible by 3.\n",
      "33 is divisible by 3.\n",
      "11 is not divisible by 3.\n",
      "24 is divisible by 3.\n",
      "16 is not divisible by 3.\n",
      "21 is divisible by 3.\n",
      "39 is divisible by 3.\n",
      "4 is not divisible by 3.\n",
      "20 is not divisible by 3.\n",
      "3 is divisible by 3.\n",
      "13 is not divisible by 3.\n",
      "19 is not divisible by 3.\n",
      "6 is divisible by 3.\n"
     ]
    }
   ],
   "source": [
    "my_list = [5, 9, 12, 18, 22, 36, 42, 15, 8, 27, 30, 7, 10, 33, 11, 24, 16, 21, 39, 4, 20, 3, 13, 19, 6]\n",
    "\n",
    "for num in my_list:\n",
    "    if num % 3 == 0:\n",
    "        print(f\"{num} is divisible by 3.\")\n",
    "    else:\n",
    "        print(f\"{num} is not divisible by 3.\")"
   ]
  },
  {
   "cell_type": "markdown",
   "id": "ec8c4fa2-f57b-44fa-abd2-3b6021cc3844",
   "metadata": {},
   "source": [
    "Q7. What do you understand about mutable and immutable data types? Give examples for both showing\n",
    "this property."
   ]
  },
  {
   "cell_type": "markdown",
   "id": "fcff82ca-1cdb-41ca-81bd-59acedb7f58e",
   "metadata": {},
   "source": [
    "Mutable and immutable data types in programming refer to whether the data within a variable can be changed (mutated) after it is created. Understanding this distinction is important because it affects how you work with data in your programs."
   ]
  },
  {
   "cell_type": "markdown",
   "id": "d0c53d2f-e298-4c95-9eb2-a2ffa6fdd0dd",
   "metadata": {},
   "source": [
    "Examples demonstrating the immutability of some data types:"
   ]
  },
  {
   "cell_type": "code",
   "execution_count": 18,
   "id": "1634993e-7deb-4750-b558-8ba6dddcdd0a",
   "metadata": {},
   "outputs": [
    {
     "ename": "TypeError",
     "evalue": "'str' object does not support item assignment",
     "output_type": "error",
     "traceback": [
      "\u001b[0;31m---------------------------------------------------------------------------\u001b[0m",
      "\u001b[0;31mTypeError\u001b[0m                                 Traceback (most recent call last)",
      "Cell \u001b[0;32mIn[18], line 2\u001b[0m\n\u001b[1;32m      1\u001b[0m my_string \u001b[38;5;241m=\u001b[39m \u001b[38;5;124m\"\u001b[39m\u001b[38;5;124mHello\u001b[39m\u001b[38;5;124m\"\u001b[39m\n\u001b[0;32m----> 2\u001b[0m \u001b[43mmy_string\u001b[49m\u001b[43m[\u001b[49m\u001b[38;5;241;43m0\u001b[39;49m\u001b[43m]\u001b[49m \u001b[38;5;241m=\u001b[39m \u001b[38;5;124m'\u001b[39m\u001b[38;5;124mJ\u001b[39m\u001b[38;5;124m'\u001b[39m\n",
      "\u001b[0;31mTypeError\u001b[0m: 'str' object does not support item assignment"
     ]
    }
   ],
   "source": [
    "my_string = \"Hello\"\n",
    "my_string[0] = 'J'"
   ]
  },
  {
   "cell_type": "markdown",
   "id": "706648f0-f572-49c0-aa8d-8f963177fed6",
   "metadata": {},
   "source": [
    "Examples demonstrating the mutability of some data types:"
   ]
  },
  {
   "cell_type": "code",
   "execution_count": 20,
   "id": "7b2e4212-b15d-43f4-8605-7bc559793a88",
   "metadata": {},
   "outputs": [],
   "source": [
    "my_list = [1, 2, 3]\n",
    "my_list[0] = 4 "
   ]
  },
  {
   "cell_type": "code",
   "execution_count": null,
   "id": "a542ff7b-5627-4c89-ab11-2ab28d173838",
   "metadata": {},
   "outputs": [],
   "source": []
  }
 ],
 "metadata": {
  "kernelspec": {
   "display_name": "Python 3 (ipykernel)",
   "language": "python",
   "name": "python3"
  },
  "language_info": {
   "codemirror_mode": {
    "name": "ipython",
    "version": 3
   },
   "file_extension": ".py",
   "mimetype": "text/x-python",
   "name": "python",
   "nbconvert_exporter": "python",
   "pygments_lexer": "ipython3",
   "version": "3.10.8"
  }
 },
 "nbformat": 4,
 "nbformat_minor": 5
}
