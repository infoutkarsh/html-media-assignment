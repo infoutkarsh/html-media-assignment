{
 "cells": [
  {
   "cell_type": "code",
   "execution_count": 17,
   "id": "54f9ec59",
   "metadata": {},
   "outputs": [],
   "source": [
    "#Q1\n",
    "class vehicle:\n",
    "    def __init__(self,name_of_vehicle,max_speed,avg_of_vehicle):\n",
    "        self.name_of_vehicle=name_of_vehicle\n",
    "        self.speed=max_speed\n",
    "        self.avg=avg_of_vehicle"
   ]
  },
  {
   "cell_type": "code",
   "execution_count": 18,
   "id": "326ba866",
   "metadata": {},
   "outputs": [],
   "source": [
    "ab=vehicle('tvs',100,50)"
   ]
  },
  {
   "cell_type": "code",
   "execution_count": 19,
   "id": "62fcb7f2",
   "metadata": {},
   "outputs": [
    {
     "data": {
      "text/plain": [
       "100"
      ]
     },
     "execution_count": 19,
     "metadata": {},
     "output_type": "execute_result"
    }
   ],
   "source": [
    "ab.speed"
   ]
  },
  {
   "cell_type": "code",
   "execution_count": 20,
   "id": "38273257",
   "metadata": {},
   "outputs": [],
   "source": [
    "#Q2_Create a child class car from the vehicle class created in Que 1, which will inherit the vehicle class.\n",
    "\n",
    "class car(vehicle):\n",
    "    def seating_capacity(self,capacity):\n",
    "        return f\"The {self.name_of_vehicle} has a seating capacity of {capacity} people.\""
   ]
  },
  {
   "cell_type": "code",
   "execution_count": 22,
   "id": "ba7fa90c",
   "metadata": {},
   "outputs": [],
   "source": [
    "ba=car(\"bmw\",500,15)"
   ]
  },
  {
   "cell_type": "code",
   "execution_count": 25,
   "id": "52e3f15b",
   "metadata": {},
   "outputs": [
    {
     "data": {
      "text/plain": [
       "'The bmw has a seating capacity of 10 people.'"
      ]
     },
     "execution_count": 25,
     "metadata": {},
     "output_type": "execute_result"
    }
   ],
   "source": [
    "ba.seating_capacity(10)"
   ]
  },
  {
   "cell_type": "markdown",
   "id": "04501fb9",
   "metadata": {},
   "source": [
    "Q3:\n",
    "Multiple inheritance is a feature in object-oriented programming where a class can inherit attributes and methods from more than one parent class."
   ]
  },
  {
   "cell_type": "code",
   "execution_count": 31,
   "id": "3c0208c1",
   "metadata": {},
   "outputs": [],
   "source": [
    "class sbji:\n",
    "    def paneer(self,matar):\n",
    "        self.matar=matar\n",
    "class dal:\n",
    "    def moong(self):\n",
    "        pass\n",
    "class khana(sbji,dal):\n",
    "    pass\n",
    "pp=khana()\n",
    "pp.paneer(\"bab\")"
   ]
  },
  {
   "cell_type": "code",
   "execution_count": 32,
   "id": "5aad1306",
   "metadata": {},
   "outputs": [
    {
     "data": {
      "text/plain": [
       "'bab'"
      ]
     },
     "execution_count": 32,
     "metadata": {},
     "output_type": "execute_result"
    }
   ],
   "source": [
    "pp.matar"
   ]
  },
  {
   "cell_type": "code",
   "execution_count": 33,
   "id": "1b1a5248",
   "metadata": {},
   "outputs": [],
   "source": [
    "pp.moong()"
   ]
  },
  {
   "cell_type": "markdown",
   "id": "33b97ec1",
   "metadata": {},
   "source": [
    "Q4: Getter and Setter\n",
    "In Python, getters and setters are methods used to get and set the values of private attributes of a class. "
   ]
  },
  {
   "cell_type": "code",
   "execution_count": 34,
   "id": "947ffab7",
   "metadata": {},
   "outputs": [
    {
     "name": "stdout",
     "output_type": "stream",
     "text": [
      "John\n",
      "Jane\n"
     ]
    }
   ],
   "source": [
    "class Student:\n",
    "    def __init__(self, name, age):\n",
    "        self._name = name  # private attribute\n",
    "        self._age = age\n",
    "\n",
    "    # Getter method\n",
    "    def get_name(self):\n",
    "        return self._name\n",
    "\n",
    "    # Setter method\n",
    "    def set_name(self, new_name):\n",
    "        self._name = new_name\n",
    "\n",
    "# Example usage\n",
    "student1 = Student(\"John\", 20)\n",
    "print(student1.get_name())  # Accessing the name using the getter\n",
    "student1.set_name(\"Jane\")   # Setting a new name using the setter\n",
    "print(student1.get_name())  # Accessing the updated name\n"
   ]
  },
  {
   "cell_type": "markdown",
   "id": "773ce7a5",
   "metadata": {},
   "source": [
    "Q5: Method Overriding\n",
    "Method overriding occurs when a subclass provides a specific implementation for a method that is already defined in its superclass."
   ]
  },
  {
   "cell_type": "code",
   "execution_count": 36,
   "id": "a9b01bad",
   "metadata": {},
   "outputs": [
    {
     "name": "stdout",
     "output_type": "stream",
     "text": [
      "Area of the square: 25\n"
     ]
    }
   ],
   "source": [
    "class Shape:\n",
    "    def area(self):\n",
    "        return 0\n",
    "\n",
    "class Square(Shape):\n",
    "    def __init__(self, side):\n",
    "        self.side = side\n",
    "\n",
    "    # Method overriding\n",
    "    def area(self):\n",
    "        return self.side * self.side\n",
    "\n",
    "# Example usage\n",
    "square = Square(5)\n",
    "print(f\"Area of the square: {square.area()}\")\n"
   ]
  },
  {
   "cell_type": "code",
   "execution_count": null,
   "id": "2ec1450f",
   "metadata": {},
   "outputs": [],
   "source": []
  }
 ],
 "metadata": {
  "kernelspec": {
   "display_name": "Python 3 (ipykernel)",
   "language": "python",
   "name": "python3"
  },
  "language_info": {
   "codemirror_mode": {
    "name": "ipython",
    "version": 3
   },
   "file_extension": ".py",
   "mimetype": "text/x-python",
   "name": "python",
   "nbconvert_exporter": "python",
   "pygments_lexer": "ipython3",
   "version": "3.11.5"
  }
 },
 "nbformat": 4,
 "nbformat_minor": 5
}
